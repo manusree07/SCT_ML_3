import os
import cv2
import numpy as np
import matplotlib.pyplot as plt
import seaborn as sns
from tqdm import tqdm
from sklearn.model_selection import train_test_split
from sklearn.svm import SVC, LinearSVC
from sklearn.metrics import accuracy_score, confusion_matrix, classification_report
import random
import tensorflow as tf
# Step 2.1: Download and extract dataset
dataset_path = tf.keras.utils.get_file(
    "cats_and_dogs_filtered.zip",
    "https://storage.googleapis.com/mledu-datasets/cats_and_dogs_filtered.zip",
    extract=True
)

# Step 2.2: Get the folder where it was extracted
extracted_dir = os.path.splitext(dataset_path)[0]  # removes .zip extension
print("Extracted folder:", extracted_dir)

# Step 2.3: Actual folder containing train/validation
base_dir = os.path.join(extracted_dir, "cats_and_dogs_filtered")
print("Base folder contents:", os.listdir(base_dir))  # should show ['train', 'validation']

# Step 2.4: Train directory
train_dir = os.path.join(base_dir, "train")
print("Train folder contents:", os.listdir(train_dir))  # should show ['cats', 'dogs']
# Step 3.1: Define categories and image size
CATEGORIES = ["cats", "dogs"]
IMG_SIZE = 100  # Resize all images to 100x100
data = []
labels = []

print("📥 Loading and preprocessing images...")

# Step 3.2: Loop through categories and load images
for category in CATEGORIES:
    path = os.path.join(train_dir, category)
    label = CATEGORIES.index(category)

    for img_name in tqdm(os.listdir(path)):
        img_path = os.path.join(path, img_name)
        try:
            # Read image in grayscale
            img = cv2.imread(img_path, cv2.IMREAD_GRAYSCALE)
            # Resize image
            img = cv2.resize(img, (IMG_SIZE, IMG_SIZE))
            # Flatten image to 1D array
            data.append(img.flatten())
            labels.append(label)
        except:
            continue

# Step 3.3: Convert to numpy arrays
data = np.array(data)
labels = np.array(labels)
print(f"✅ Total images loaded: {len(data)}")

from sklearn.model_selection import train_test_split

# Step 4.1: Split data (80% train, 20% test)
X_train, X_test, y_train, y_test = train_test_split(
    data, labels, test_size=0.2, random_state=42, stratify=labels
)

# Step 4.2: Print shapes to verify
print("Train set:", X_train.shape)
print("Test set:", X_test.shape)

from sklearn.decomposition import PCA
from sklearn.svm import LinearSVC

# Step 5.1: Apply PCA to reduce dimensions (from 10,000 → 200)
pca = PCA(n_components=200)
X_train_pca = pca.fit_transform(X_train)
X_test_pca = pca.transform(X_test)
print("✅ PCA applied: data reduced to 200 dimensions.")

# Step 5.2: Train LinearSVC (faster than SVC for high-dimensional data)
print("⚙️ Training LinearSVC classifier with PCA-reduced data...")
svm_model = LinearSVC(C=1, max_iter=5000)
svm_model.fit(X_train_pca, y_train)
print("✅ Training complete.")

from sklearn.metrics import accuracy_score, classification_report

# Step 6.1: Predict on the test set
y_pred = svm_model.predict(X_test_pca)

# Step 6.2: Calculate accuracy
acc = accuracy_score(y_test, y_pred)
print(f"\n🎯 Accuracy: {acc*100:.2f}%")

# Step 6.3: Detailed classification report
print("\nClassification Report:\n", classification_report(y_test, y_pred, target_names=CATEGORIES))

from sklearn.metrics import confusion_matrix
import seaborn as sns
import matplotlib.pyplot as plt

# Step 7.1: Generate confusion matrix
cm = confusion_matrix(y_test, y_pred)

# Step 7.2: Plot heatmap
plt.figure(figsize=(6,5))
sns.heatmap(cm, annot=True, fmt='d', cmap='coolwarm', xticklabels=CATEGORIES, yticklabels=CATEGORIES)
plt.title("Confusion Matrix - Cats vs Dogs (LinearSVC with PCA)", fontsize=14)
plt.xlabel("Predicted Label")
plt.ylabel("True Label")
plt.show()

import random
import matplotlib.pyplot as plt

plt.figure(figsize=(10,8))

# Step 8.1: Display 9 random images from the test set
for i in range(9):
    idx = random.randint(0, len(X_test_pca)-1)
    img = X_test[idx].reshape(IMG_SIZE, IMG_SIZE)  # original grayscale image
    true_label = CATEGORIES[y_test[idx]]
    pred_label = CATEGORIES[y_pred[idx]]

    plt.subplot(3,3,i+1)
    plt.imshow(img, cmap='gray')
    color = 'green' if true_label == pred_label else 'red'  # green=correct, red=wrong
    plt.title(f"T:{true_label}\nP:{pred_label}", color=color)
    plt.axis('off')

plt.suptitle("Sample Predictions (LinearSVC with PCA)", fontsize=16)
plt.show()
